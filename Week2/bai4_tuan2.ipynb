{
 "cells": [
  {
   "cell_type": "code",
   "execution_count": 8,
   "metadata": {},
   "outputs": [],
   "source": [
    "def print_2d(matrix, rows, cols):\n",
    "    for row in range(rows):\n",
    "        for col in range(cols):\n",
    "            print(matrix[row][col],  end=' ')\n",
    "        print()"
   ]
  },
  {
   "cell_type": "code",
   "execution_count": 5,
   "metadata": {},
   "outputs": [],
   "source": [
    "def tinh_min(matrix, row, col):\n",
    "    del_cost = matrix[row-1][col] + 1\n",
    "    ins_cost = matrix[row][col-1] + 1\n",
    "    replace_value = 1\n",
    "    if matrix[row][0] == matrix[0][col]:\n",
    "        replace_value = 0\n",
    "    rep_cost = matrix[row-1][col-1] + replace_value\n",
    "    min_value = min([del_cost, ins_cost, rep_cost])\n",
    "    return min_value"
   ]
  },
  {
   "cell_type": "code",
   "execution_count": null,
   "metadata": {},
   "outputs": [],
   "source": []
  },
  {
   "cell_type": "code",
   "execution_count": 10,
   "metadata": {},
   "outputs": [],
   "source": [
    "def khoang_cach_levenshtein(source, target):\n",
    "    len_source = len(source)\n",
    "    len_target = len(target)\n",
    "    rows = len_source + 2\n",
    "    cols = len_target + 2\n",
    "    i_target = 2\n",
    "    i_source = 2\n",
    "    matrix = [[0]*cols for _ in range(rows)]\n",
    "    matrix[0][0] = \"?\"\n",
    "    matrix[0][1] = \"#\"\n",
    "    matrix[1][0] = \"#\"\n",
    "    for chu_cai in target:\n",
    "        matrix[0][i_target] = chu_cai\n",
    "        i_target += 1\n",
    "    for chu_cai in source:\n",
    "        matrix[i_source][0] = chu_cai\n",
    "        i_source += 1\n",
    "    for col in range(1, cols):\n",
    "        matrix[1][col] = col - 1\n",
    "    for row in range(1, rows):\n",
    "        matrix[row][1] = row - 1\n",
    "    for row in range(2, rows):\n",
    "        for col in range(2, cols):\n",
    "            matrix[row][col] = tinh_min(matrix, row, col)\n",
    "\n",
    "    return matrix[rows-1][rows-1]"
   ]
  },
  {
   "cell_type": "code",
   "execution_count": 12,
   "metadata": {},
   "outputs": [
    {
     "name": "stdout",
     "output_type": "stream",
     "text": [
      "1\n"
     ]
    }
   ],
   "source": [
    "source = \"yu\"\n",
    "target = \"you\"\n",
    "ket_qua_cuoi = khoang_cach_levenshtein(source, target)\n",
    "print(ket_qua_cuoi)"
   ]
  },
  {
   "cell_type": "code",
   "execution_count": null,
   "metadata": {},
   "outputs": [],
   "source": []
  },
  {
   "cell_type": "code",
   "execution_count": 3,
   "metadata": {},
   "outputs": [
    {
     "name": "stdout",
     "output_type": "stream",
     "text": [
      "[3, 5, 6]\n",
      "3\n"
     ]
    }
   ],
   "source": []
  },
  {
   "cell_type": "code",
   "execution_count": null,
   "metadata": {},
   "outputs": [],
   "source": []
  },
  {
   "cell_type": "code",
   "execution_count": 2,
   "metadata": {},
   "outputs": [
    {
     "name": "stdout",
     "output_type": "stream",
     "text": [
      "7\n",
      "9\n",
      "1\n"
     ]
    }
   ],
   "source": []
  }
 ],
 "metadata": {
  "kernelspec": {
   "display_name": "Python 3",
   "language": "python",
   "name": "python3"
  },
  "language_info": {
   "codemirror_mode": {
    "name": "ipython",
    "version": 3
   },
   "file_extension": ".py",
   "mimetype": "text/x-python",
   "name": "python",
   "nbconvert_exporter": "python",
   "pygments_lexer": "ipython3",
   "version": "3.12.2"
  }
 },
 "nbformat": 4,
 "nbformat_minor": 2
}
