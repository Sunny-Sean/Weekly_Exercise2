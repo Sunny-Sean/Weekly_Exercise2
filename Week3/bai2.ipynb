{
 "cells": [
  {
   "cell_type": "code",
   "execution_count": 16,
   "metadata": {},
   "outputs": [
    {
     "name": "stdout",
     "output_type": "stream",
     "text": [
      "Ward Name: Ward1\n",
      "Student - Name: Sunny - YoB: 2004 - Grade: 13\n",
      "Teacher - Name: teacherB - YoB: 1995 - Subject: History\n",
      "Docter - Name: docter3 - YoB: 1980 - Specialist: Hihi\n",
      "Docter - Name: docterB - YoB: 1975 - Specialist: Cardiologists\n",
      "Teacher - Name: teacherA - YoB: 1969 - Subject: Math\n",
      "Teacher - Name: teacherC - YoB: 1969 - Subject: Toan\n",
      "Docter - Name: DocterA - YoB: 1945 - Specialist: Endocrinologists\n",
      "1977.6666666666667\n"
     ]
    }
   ],
   "source": [
    "class Person:\n",
    "    def __init__(self, name, yob):\n",
    "        self.name = name\n",
    "        self.yob = yob\n",
    "\n",
    "\n",
    "class Student(Person):\n",
    "    def __init__(self, name, yob, grade):\n",
    "        super().__init__(name, yob)\n",
    "        self.grade = grade\n",
    "\n",
    "    def describe(self):\n",
    "        print(\n",
    "            f\"Student - Name: {self.name} - YoB: {self.yob} - Grade: {self.grade}\")\n",
    "\n",
    "\n",
    "class Teacher(Person):\n",
    "    def __init__(self, name, yob, subject):\n",
    "        super().__init__(name, yob)\n",
    "        self.subject = subject\n",
    "\n",
    "    def describe(self):\n",
    "        print(\n",
    "            f\"Teacher - Name: {self.name} - YoB: {self.yob} - Subject: {self.subject}\")\n",
    "\n",
    "\n",
    "class Docter(Person):\n",
    "    def __init__(self, name, yob, specialist):\n",
    "        super().__init__(name, yob)\n",
    "        self.specialist = specialist\n",
    "\n",
    "    def describe(self):\n",
    "        print(\n",
    "            f\"Docter - Name: {self.name} - YoB: {self.yob} - Specialist: {self.specialist}\")\n",
    "\n",
    "\n",
    "class Ward:\n",
    "    def __init__(self, name):\n",
    "        self.name = name\n",
    "        self.list_doi_tuong = []\n",
    "\n",
    "    def add_person(self, doi_tuong):\n",
    "        self.list_doi_tuong.append(doi_tuong)\n",
    "\n",
    "    def describe(self):\n",
    "        print(f\"Ward Name: {self.name}\")\n",
    "        for i in self.list_doi_tuong:\n",
    "            i.describe()\n",
    "\n",
    "    def count_docter(self):\n",
    "        docter = 0\n",
    "        for i in self.list_doi_tuong:\n",
    "            if hasattr(i, \"specialist\"):\n",
    "                docter += 1\n",
    "        print(f\"Numbef of docter: {docter}\")\n",
    "\n",
    "    def sort_age(self):\n",
    "        self.list_doi_tuong.sort(key=lambda x: x.yob, reverse=True)\n",
    "\n",
    "    def compute_average(self):\n",
    "        tong = 0\n",
    "        so_luong = 0\n",
    "        for i in self.list_doi_tuong:\n",
    "            if hasattr(i, \"subject\"):\n",
    "                tong += getattr(i, \"yob\")\n",
    "                so_luong += 1\n",
    "        trungbinh = tong/so_luong\n",
    "        return trungbinh\n",
    "\n",
    "\n",
    "stu1 = Student(\"Sunny\", 2004, 13)\n",
    "teach1 = Teacher(\"teacherA\", 1969, \"Math\")\n",
    "teach3 = Teacher(\"teacherC\", 1969, \"Toan\")\n",
    "doc1 = Docter(\"DocterA\", 1945, \"Endocrinologists\")\n",
    "tech2 = Teacher(\"teacherB\", 1995, \"History\")\n",
    "doc2 = Docter(\"docterB\", 1975, \"Cardiologists\")\n",
    "doc3 = Docter(\"docter3\", 1980, \"Hihi\")\n",
    "\n",
    "ward1 = Ward(\"Ward1\")\n",
    "ward1.add_person(stu1)\n",
    "ward1.add_person(teach1)\n",
    "ward1.add_person(teach3)\n",
    "ward1.add_person(doc1)\n",
    "ward1.add_person(tech2)\n",
    "ward1.add_person(doc2)\n",
    "ward1.add_person(doc3)\n",
    "ward1.describe()\n",
    "ward1.sort_age()\n",
    "ward1.describe()\n",
    "print(ward1.compute_average())"
   ]
  },
  {
   "cell_type": "code",
   "execution_count": null,
   "metadata": {},
   "outputs": [],
   "source": []
  },
  {
   "cell_type": "code",
   "execution_count": 7,
   "metadata": {},
   "outputs": [],
   "source": []
  },
  {
   "cell_type": "code",
   "execution_count": 5,
   "metadata": {},
   "outputs": [
    {
     "data": {
      "text/html": [
       "<pre style=\"white-space:pre;overflow-x:auto;line-height:normal;font-family:Menlo,'DejaVu Sans Mono',consolas,'Courier New',monospace\">\n",
       "</pre>\n"
      ],
      "text/plain": [
       "\n"
      ]
     },
     "metadata": {},
     "output_type": "display_data"
    },
    {
     "data": {
      "text/html": [
       "<pre style=\"white-space:pre;overflow-x:auto;line-height:normal;font-family:Menlo,'DejaVu Sans Mono',consolas,'Courier New',monospace\"><span style=\"color: #800000; text-decoration-color: #800000; font-weight: bold; font-style: italic; text-decoration: underline\">Họ và tên: Hieu</span>\n",
       "</pre>\n"
      ],
      "text/plain": [
       "\u001b[1;3;4;31mHọ và tên: Hieu\u001b[0m\n"
      ]
     },
     "metadata": {},
     "output_type": "display_data"
    }
   ],
   "source": []
  },
  {
   "cell_type": "code",
   "execution_count": null,
   "metadata": {},
   "outputs": [],
   "source": []
  }
 ],
 "metadata": {
  "kernelspec": {
   "display_name": "Python 3",
   "language": "python",
   "name": "python3"
  },
  "language_info": {
   "codemirror_mode": {
    "name": "ipython",
    "version": 3
   },
   "file_extension": ".py",
   "mimetype": "text/x-python",
   "name": "python",
   "nbconvert_exporter": "python",
   "pygments_lexer": "ipython3",
   "version": "3.12.2"
  }
 },
 "nbformat": 4,
 "nbformat_minor": 2
}
