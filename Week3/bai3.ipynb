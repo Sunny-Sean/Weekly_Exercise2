{
 "cells": [
  {
   "cell_type": "code",
   "execution_count": 18,
   "metadata": {},
   "outputs": [
    {
     "name": "stdout",
     "output_type": "stream",
     "text": [
      "False\n",
      "2\n",
      "2\n",
      "1\n",
      "1\n",
      "True\n"
     ]
    }
   ],
   "source": [
    "class Stack:\n",
    "    def __init__(self, capacity):\n",
    "        self.capacity = capacity\n",
    "        self.stack_k = []\n",
    "\n",
    "    def is_empty(self):\n",
    "        if len(self.stack_k) == 0:\n",
    "            return True\n",
    "        return False\n",
    "\n",
    "    def is_full(self):\n",
    "        if len(self.stack_k) == self.capacity:\n",
    "            return True\n",
    "        return False\n",
    "\n",
    "    def push(self, value):\n",
    "        if self.is_full():\n",
    "            print(\"Can not add\")\n",
    "        else:\n",
    "            self.stack_k.append(value)\n",
    "\n",
    "    def pop(self):\n",
    "        if self.is_empty():\n",
    "            print(\"Can not pop\")\n",
    "        else:\n",
    "            return self.stack_k.pop(-1)\n",
    "\n",
    "    def top(self):\n",
    "        return self.stack_k[-1]\n",
    "\n",
    "\n",
    "stack1 = Stack(5)\n",
    "stack1.push(1)\n",
    "stack1.push(2)\n",
    "print(stack1.is_full())\n",
    "print(stack1.top())\n",
    "print(stack1.pop())\n",
    "print(stack1.top())\n",
    "print(stack1.pop())\n",
    "print(stack1.is_empty())"
   ]
  },
  {
   "cell_type": "code",
   "execution_count": null,
   "metadata": {},
   "outputs": [],
   "source": []
  },
  {
   "cell_type": "code",
   "execution_count": null,
   "metadata": {},
   "outputs": [],
   "source": []
  }
 ],
 "metadata": {
  "kernelspec": {
   "display_name": "Python 3",
   "language": "python",
   "name": "python3"
  },
  "language_info": {
   "codemirror_mode": {
    "name": "ipython",
    "version": 3
   },
   "file_extension": ".py",
   "mimetype": "text/x-python",
   "name": "python",
   "nbconvert_exporter": "python",
   "pygments_lexer": "ipython3",
   "version": "3.12.2"
  }
 },
 "nbformat": 4,
 "nbformat_minor": 2
}
